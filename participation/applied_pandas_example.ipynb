{
 "cells": [
  {
   "cell_type": "markdown",
   "id": "1c6df1e6-44a9-48b3-91db-7923d43ebb90",
   "metadata": {},
   "source": [
    "# Applied Pandas Example"
   ]
  },
  {
   "cell_type": "code",
   "execution_count": null,
   "id": "721ef668-a4f3-4071-8bd5-3540a388acad",
   "metadata": {},
   "outputs": [],
   "source": []
  }
 ],
 "metadata": {
  "kernelspec": {
   "display_name": "Python [conda env:pyEAE]",
   "language": "python",
   "name": "conda-env-pyEAE-py"
  },
  "language_info": {
   "codemirror_mode": {
    "name": "ipython",
    "version": 3
   },
   "file_extension": ".py",
   "mimetype": "text/x-python",
   "name": "python",
   "nbconvert_exporter": "python",
   "pygments_lexer": "ipython3",
   "version": "3.9.13"
  }
 },
 "nbformat": 4,
 "nbformat_minor": 5
}
