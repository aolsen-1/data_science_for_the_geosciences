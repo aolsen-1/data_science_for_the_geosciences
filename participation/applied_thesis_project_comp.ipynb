{
 "cells": [
  {
   "cell_type": "markdown",
   "id": "155983a9-f6ba-4883-b9ea-79c74ce5b7b0",
   "metadata": {},
   "source": [
    "# Applied Thesis Project Component Using X-array and Cartopy"
   ]
  },
  {
   "cell_type": "code",
   "execution_count": null,
   "id": "1e969df3-10ee-4a06-b460-15a74fa8a1f3",
   "metadata": {},
   "outputs": [],
   "source": []
  }
 ],
 "metadata": {
  "kernelspec": {
   "display_name": "Python [conda env:pyEAE]",
   "language": "python",
   "name": "conda-env-pyEAE-py"
  },
  "language_info": {
   "codemirror_mode": {
    "name": "ipython",
    "version": 3
   },
   "file_extension": ".py",
   "mimetype": "text/x-python",
   "name": "python",
   "nbconvert_exporter": "python",
   "pygments_lexer": "ipython3",
   "version": "3.9.13"
  }
 },
 "nbformat": 4,
 "nbformat_minor": 5
}
