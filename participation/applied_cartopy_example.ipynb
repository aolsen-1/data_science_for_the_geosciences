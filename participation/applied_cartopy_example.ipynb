{
 "cells": [
  {
   "cell_type": "markdown",
   "id": "402123a2-0605-4048-ae10-704422c9b540",
   "metadata": {},
   "source": [
    "# Applied Cartopy Example"
   ]
  },
  {
   "cell_type": "code",
   "execution_count": null,
   "id": "eefaa15e-596b-459d-8f9a-b4b9973e517e",
   "metadata": {},
   "outputs": [],
   "source": []
  }
 ],
 "metadata": {
  "kernelspec": {
   "display_name": "Python [conda env:pyEAE]",
   "language": "python",
   "name": "conda-env-pyEAE-py"
  },
  "language_info": {
   "codemirror_mode": {
    "name": "ipython",
    "version": 3
   },
   "file_extension": ".py",
   "mimetype": "text/x-python",
   "name": "python",
   "nbconvert_exporter": "python",
   "pygments_lexer": "ipython3",
   "version": "3.9.13"
  }
 },
 "nbformat": 4,
 "nbformat_minor": 5
}
